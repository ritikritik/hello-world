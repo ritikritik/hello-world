{
 "cells": [
  {
   "cell_type": "markdown",
   "metadata": {},
   "source": [
    "#                                        PYTHON LIST"
   ]
  },
  {
   "cell_type": "code",
   "execution_count": 1,
   "metadata": {},
   "outputs": [
    {
     "name": "stdout",
     "output_type": "stream",
     "text": [
      "[1, 2, 3]\n"
     ]
    }
   ],
   "source": [
    "my_list = [1,2,3]\n",
    "print(my_list)"
   ]
  },
  {
   "cell_type": "code",
   "execution_count": 2,
   "metadata": {},
   "outputs": [
    {
     "name": "stdout",
     "output_type": "stream",
     "text": [
      "[5, 'hello', 7.7]\n"
     ]
    }
   ],
   "source": [
    "my_list = [5,\"hello\",7.7]   #list with many data types\n",
    "print(my_list)"
   ]
  },
  {
   "cell_type": "code",
   "execution_count": 3,
   "metadata": {},
   "outputs": [
    {
     "name": "stdout",
     "output_type": "stream",
     "text": [
      "['mousr', [5, 9, 66, 0], 'jklu']\n"
     ]
    }
   ],
   "source": [
    "#nested list\n",
    "list = ['mousr',[5,9,66,0],\"jklu\"]\n",
    "print(list)"
   ]
  },
  {
   "cell_type": "code",
   "execution_count": 4,
   "metadata": {},
   "outputs": [
    {
     "name": "stdout",
     "output_type": "stream",
     "text": [
      "o\n"
     ]
    }
   ],
   "source": [
    "my_list = ['p','r','o','b','e']\n",
    "print(my_list[2])"
   ]
  },
  {
   "cell_type": "code",
   "execution_count": 6,
   "metadata": {},
   "outputs": [
    {
     "ename": "TypeError",
     "evalue": "list indices must be integers or slices, not float",
     "output_type": "error",
     "traceback": [
      "\u001b[1;31m---------------------------------------------------------------------------\u001b[0m",
      "\u001b[1;31mTypeError\u001b[0m                                 Traceback (most recent call last)",
      "\u001b[1;32m<ipython-input-6-6feffd0ebfb3>\u001b[0m in \u001b[0;36m<module>\u001b[1;34m\u001b[0m\n\u001b[0;32m      1\u001b[0m \u001b[0mmy_list\u001b[0m \u001b[1;33m=\u001b[0m \u001b[1;33m[\u001b[0m\u001b[1;34m'p'\u001b[0m\u001b[1;33m,\u001b[0m\u001b[1;34m'r'\u001b[0m\u001b[1;33m,\u001b[0m\u001b[1;34m'o'\u001b[0m\u001b[1;33m,\u001b[0m\u001b[1;34m'b'\u001b[0m\u001b[1;33m,\u001b[0m\u001b[1;34m'e'\u001b[0m\u001b[1;33m]\u001b[0m\u001b[1;33m\u001b[0m\u001b[1;33m\u001b[0m\u001b[0m\n\u001b[1;32m----> 2\u001b[1;33m \u001b[0mprint\u001b[0m\u001b[1;33m(\u001b[0m\u001b[0mmy_list\u001b[0m\u001b[1;33m[\u001b[0m\u001b[1;36m4.0\u001b[0m\u001b[1;33m]\u001b[0m\u001b[1;33m)\u001b[0m\u001b[1;33m\u001b[0m\u001b[1;33m\u001b[0m\u001b[0m\n\u001b[0m",
      "\u001b[1;31mTypeError\u001b[0m: list indices must be integers or slices, not float"
     ]
    }
   ],
   "source": [
    "my_list = ['p','r','o','b','e']\n",
    "print(my_list[4.0])"
   ]
  },
  {
   "cell_type": "code",
   "execution_count": 7,
   "metadata": {},
   "outputs": [
    {
     "name": "stdout",
     "output_type": "stream",
     "text": [
      "b\n"
     ]
    }
   ],
   "source": [
    "my_list = ['p','r','o','b','e']\n",
    "print(my_list[-2])"
   ]
  },
  {
   "cell_type": "code",
   "execution_count": 9,
   "metadata": {},
   "outputs": [
    {
     "name": "stdout",
     "output_type": "stream",
     "text": [
      "a\n"
     ]
    }
   ],
   "source": [
    "n_list = [\"goal\",[2,5,1,9]]    #nested list\n",
    "print(n_list[0][2])"
   ]
  },
  {
   "cell_type": "code",
   "execution_count": 12,
   "metadata": {},
   "outputs": [
    {
     "name": "stdout",
     "output_type": "stream",
     "text": [
      "5\n"
     ]
    }
   ],
   "source": [
    "n_list = [\"goal\",[2,5,1,9]]\n",
    "print(n_list[1][1])"
   ]
  },
  {
   "cell_type": "code",
   "execution_count": 13,
   "metadata": {},
   "outputs": [
    {
     "name": "stdout",
     "output_type": "stream",
     "text": [
      "b\n"
     ]
    }
   ],
   "source": [
    "my_list = ['p','r','o','b','e']    #negative indexing python\n",
    "print(my_list[-2])"
   ]
  },
  {
   "cell_type": "code",
   "execution_count": 15,
   "metadata": {},
   "outputs": [
    {
     "name": "stdout",
     "output_type": "stream",
     "text": [
      "r\n"
     ]
    }
   ],
   "source": [
    "my_list = ['p','r','o','b','e']\n",
    "print(my_list[-4])"
   ]
  },
  {
   "cell_type": "code",
   "execution_count": 16,
   "metadata": {},
   "outputs": [
    {
     "name": "stdout",
     "output_type": "stream",
     "text": [
      "['r', 'o', 'm', 'a', 'n', 'b', 'i', 'g']\n"
     ]
    }
   ],
   "source": [
    "#slicing operator\n",
    "jju = ['r','o','m','a','n','b','i','g']\n",
    "print(jju[:])"
   ]
  },
  {
   "cell_type": "code",
   "execution_count": 17,
   "metadata": {},
   "outputs": [
    {
     "name": "stdout",
     "output_type": "stream",
     "text": [
      "['r', 'o', 'm', 'a', 'n']\n"
     ]
    }
   ],
   "source": [
    "jju = ['r','o','m','a','n','b','i','g']\n",
    "print(jju[:5])"
   ]
  },
  {
   "cell_type": "code",
   "execution_count": 21,
   "metadata": {},
   "outputs": [
    {
     "name": "stdout",
     "output_type": "stream",
     "text": [
      "[]\n"
     ]
    }
   ],
   "source": [
    "jju = ['r','o','m','a','n','b','i','g']\n",
    "print(jju[-1:-4])"
   ]
  },
  {
   "cell_type": "code",
   "execution_count": 22,
   "metadata": {},
   "outputs": [
    {
     "name": "stdout",
     "output_type": "stream",
     "text": [
      "['a', 'n', 'b']\n"
     ]
    }
   ],
   "source": [
    "jju = ['r','o','m','a','n','b','i','g']\n",
    "print(jju[3:-2])"
   ]
  },
  {
   "cell_type": "code",
   "execution_count": 24,
   "metadata": {},
   "outputs": [
    {
     "name": "stdout",
     "output_type": "stream",
     "text": [
      "[1, 6, 4, 2, 0, 8, 5]\n"
     ]
    }
   ],
   "source": [
    "# mistake values\n",
    "yes = [1,6,4,2,7,8,5]\n",
    "yes[4] = 0\n",
    "print(yes)"
   ]
  },
  {
   "cell_type": "code",
   "execution_count": 26,
   "metadata": {},
   "outputs": [
    {
     "name": "stdout",
     "output_type": "stream",
     "text": [
      "[1, 6, 0, 0, 9, 5]\n"
     ]
    }
   ],
   "source": [
    "yes = [1,6,4,2,7,8,5]\n",
    "yes[2:6] = [0,0,9]\n",
    "print(yes)"
   ]
  },
  {
   "cell_type": "code",
   "execution_count": 28,
   "metadata": {},
   "outputs": [
    {
     "name": "stdout",
     "output_type": "stream",
     "text": [
      "[1, 2, 6, 4, 8, 7, 0]\n"
     ]
    }
   ],
   "source": [
    "yes = [1,2,6,4]\n",
    "yes.extend([8,7,0])   # to add several item between list\n",
    "print(yes)"
   ]
  },
  {
   "cell_type": "code",
   "execution_count": 29,
   "metadata": {},
   "outputs": [
    {
     "name": "stdout",
     "output_type": "stream",
     "text": [
      "[1, 2, 6, 4, 0, 0, 0, 5]\n"
     ]
    }
   ],
   "source": [
    "yes = [1,2,6,4]\n",
    "print(yes+[0,0,0,5])   #concatenation"
   ]
  },
  {
   "cell_type": "code",
   "execution_count": 34,
   "metadata": {},
   "outputs": [
    {
     "name": "stdout",
     "output_type": "stream",
     "text": [
      "[1, 2, 3, 6, 4]\n"
     ]
    }
   ],
   "source": [
    "yes = [1,2,6,4]\n",
    "yes.insert(2,3)        #insertion\n",
    "print(yes)"
   ]
  },
  {
   "cell_type": "code",
   "execution_count": 2,
   "metadata": {},
   "outputs": [
    {
     "name": "stdout",
     "output_type": "stream",
     "text": [
      "[1, 0, 3, 7]\n",
      "[9, 0, 3, 7]\n"
     ]
    }
   ],
   "source": [
    "yes = [1,2,6,4]\n",
    "yes[1:4] = [0,3,7]\n",
    "print(yes)\n",
    "yes[0:1] = [9]\n",
    "print(yes)"
   ]
  },
  {
   "cell_type": "code",
   "execution_count": 45,
   "metadata": {},
   "outputs": [
    {
     "name": "stdout",
     "output_type": "stream",
     "text": [
      "[1, 5, 7, 9]\n"
     ]
    }
   ],
   "source": [
    "odd = [1, 9]\n",
    "odd[1:1] = [5, 7]\n",
    "print(odd)"
   ]
  },
  {
   "cell_type": "code",
   "execution_count": 47,
   "metadata": {},
   "outputs": [
    {
     "name": "stdout",
     "output_type": "stream",
     "text": [
      "[1, 4, 5, 8, 0, 15, 78, 6, 3, 7, 10]\n",
      "[1, 4, 5, 8, 0, 0, 0, 0, 3, 7, 10]\n"
     ]
    }
   ],
   "source": [
    "value = [1,4,5,8,6,3,7,10]\n",
    "value[4:4] = [0,15,78]\n",
    "print(value)\n",
    "value[4:8] = [0,0,0,0]\n",
    "print(value)"
   ]
  },
  {
   "cell_type": "code",
   "execution_count": 46,
   "metadata": {},
   "outputs": [
    {
     "name": "stdout",
     "output_type": "stream",
     "text": [
      "[]\n"
     ]
    }
   ],
   "source": [
    "my_list = ['p','r','o','b','l','e','m']\n",
    "del my_list[:]                    # delete one or more items from a list using the keyword (del)\n",
    "print(my_list)"
   ]
  },
  {
   "cell_type": "code",
   "execution_count": 50,
   "metadata": {},
   "outputs": [
    {
     "name": "stdout",
     "output_type": "stream",
     "text": [
      "['p', 'r', 'o', 'e', 'm']\n"
     ]
    }
   ],
   "source": [
    "my_list = ['p','r','o','b','l','e','m']\n",
    "del my_list[3:5]\n",
    "print(my_list)"
   ]
  },
  {
   "cell_type": "code",
   "execution_count": 45,
   "metadata": {},
   "outputs": [
    {
     "name": "stdout",
     "output_type": "stream",
     "text": [
      "['p', 'r', 'o', 'l', 'e', 'm']\n"
     ]
    }
   ],
   "source": [
    "my_list = ['p','r','o','b','l','e','m']\n",
    "del my_list[3]\n",
    "print(my_list)"
   ]
  },
  {
   "cell_type": "code",
   "execution_count": 52,
   "metadata": {},
   "outputs": [
    {
     "name": "stdout",
     "output_type": "stream",
     "text": [
      "True\n"
     ]
    }
   ],
   "source": [
    "my_list = ['p','r','o','b','l','e','m']   # List Membership Test\n",
    "print('b' in my_list)"
   ]
  },
  {
   "cell_type": "code",
   "execution_count": 53,
   "metadata": {},
   "outputs": [
    {
     "name": "stdout",
     "output_type": "stream",
     "text": [
      "True\n"
     ]
    }
   ],
   "source": [
    "my_list = ['p','r','o','b','l','e','m']\n",
    "print('z' not in my_list)"
   ]
  },
  {
   "cell_type": "code",
   "execution_count": 3,
   "metadata": {},
   "outputs": [
    {
     "name": "stdout",
     "output_type": "stream",
     "text": [
      "r\n",
      "r\n",
      "[]\n"
     ]
    }
   ],
   "source": [
    "tt = [\"c\",\"a\",\"r\",\"r\",\"r\",\"e\",\"r\"]\n",
    "print(tt.pop(3))\n",
    "print(tt.pop())               # use of pop() to remove an item from the list\n",
    "tt.clear()\n",
    "print(tt)"
   ]
  },
  {
   "cell_type": "code",
   "execution_count": 3,
   "metadata": {},
   "outputs": [
    {
     "name": "stdout",
     "output_type": "stream",
     "text": [
      "['1', '16', '2', '3', '5', '7', '8', '9']\n",
      "['9', '8', '7', '5', '3', '2', '16', '1']\n",
      "['9', '8', '7', '5', '3', '2', '16', '1']\n",
      "['1', '16', '2', '3', '5', '7', '8', '9']\n"
     ]
    }
   ],
   "source": [
    "number = [\"1\",\"2\",\"3\",\"8\",\"7\",\"16\",\"5\",\"9\"]\n",
    "number.sort()\n",
    "print(number)\n",
    "number.sort(reverse=True)\n",
    "print(number)\n",
    "number.copy()\n",
    "print(number)\n",
    "number.reverse()\n",
    "print(number)"
   ]
  },
  {
   "cell_type": "code",
   "execution_count": 4,
   "metadata": {},
   "outputs": [
    {
     "name": "stdout",
     "output_type": "stream",
     "text": [
      "6\n",
      "5\n",
      "[1, 3, 4, 5, 5, 5, 5, 5, 6, 7, 7, 8, 10, 10, 10]\n",
      "[10, 10, 10, 8, 7, 7, 6, 5, 5, 5, 5, 5, 4, 3, 1]\n",
      "[1, 3, 4, 5, 5, 5, 5, 5, 6, 7, 7, 8, 10, 10, 10]\n"
     ]
    }
   ],
   "source": [
    "value = [1,4,5,8,6,3,7,10,5,10,5,5,7,10,5]\n",
    "print(value.index(7))\n",
    "print(value.count(5))\n",
    "value.sort()\n",
    "print(value)\n",
    "value.sort(reverse=True)\n",
    "print(value)\n",
    "value.reverse()\n",
    "print(value)"
   ]
  },
  {
   "cell_type": "code",
   "execution_count": 5,
   "metadata": {},
   "outputs": [
    {
     "name": "stdout",
     "output_type": "stream",
     "text": [
      "[1, 4, 5, 8, 6, 3, 7, 10, 5, 10, 5, 5, 7, 10, 5]\n"
     ]
    }
   ],
   "source": [
    "value = [1,4,5,8,6,3,7,10,5,10,5,5,7,10,5]\n",
    "sorted(value)\n",
    "print(value)\n"
   ]
  },
  {
   "cell_type": "code",
   "execution_count": null,
   "metadata": {},
   "outputs": [],
   "source": []
  }
 ],
 "metadata": {
  "kernelspec": {
   "display_name": "Python 3",
   "language": "python",
   "name": "python3"
  },
  "language_info": {
   "codemirror_mode": {
    "name": "ipython",
    "version": 3
   },
   "file_extension": ".py",
   "mimetype": "text/x-python",
   "name": "python",
   "nbconvert_exporter": "python",
   "pygments_lexer": "ipython3",
   "version": "3.7.3"
  }
 },
 "nbformat": 4,
 "nbformat_minor": 2
}
